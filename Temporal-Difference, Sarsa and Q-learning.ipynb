{
 "cells": [
  {
   "cell_type": "code",
   "id": "initial_id",
   "metadata": {
    "collapsed": true,
    "ExecuteTime": {
     "end_time": "2025-07-04T16:36:19.894966Z",
     "start_time": "2025-07-04T16:36:19.822400Z"
    }
   },
   "source": [
    "import numpy as np\n",
    "import random\n",
    "from collections import defaultdict\n",
    "\n",
    "class GridWorld:\n",
    "    \"\"\"\n",
    "    A 5x5 GridWorld environment.\n",
    "    \"\"\"\n",
    "    def __init__(self):\n",
    "        # Define grid dimensions\n",
    "        self.rows = 5\n",
    "        self.cols = 5\n",
    "        self.num_states = self.rows * self.cols\n",
    "        self.num_actions = 4  # 0: up, 1: down, 2: left, 3: right\n",
    "\n",
    "        # Define special states for the 5x5 grid\n",
    "        self.start_state = 20  # Bottom-left corner\n",
    "        self.goal_state = 4    # Top-right corner\n",
    "\n",
    "        # Add more complex obstacles\n",
    "        self.trap_states = [13, 19] # Two traps\n",
    "        self.wall_states = [6, 11, 16] # A vertical wall column\n",
    "\n",
    "        self.terminal_states = [self.goal_state] + self.trap_states\n",
    "\n",
    "    def reset(self):\n",
    "        \"\"\"Resets the environment to the starting state.\"\"\"\n",
    "        return self.start_state\n",
    "\n",
    "    def step(self, state, action):\n",
    "        \"\"\"Performs an action in a given state.\"\"\"\n",
    "        if state in self.terminal_states:\n",
    "            return state, 0, True\n",
    "\n",
    "        row, col = state // self.cols, state % self.cols\n",
    "\n",
    "        if action == 0: row = max(row - 1, 0)\n",
    "        elif action == 1: row = min(row + 1, self.rows - 1)\n",
    "        elif action == 2: col = max(col - 1, 0)\n",
    "        elif action == 3: col = min(col + 1, self.cols - 1)\n",
    "\n",
    "        next_state = row * self.cols + col\n",
    "\n",
    "        # Agent cannot enter a wall, so it stays in place\n",
    "        if next_state in self.wall_states:\n",
    "            next_state = state\n",
    "\n",
    "        # Define rewards\n",
    "        if next_state == self.goal_state:\n",
    "            reward = 10\n",
    "        elif next_state in self.trap_states:\n",
    "            reward = -10\n",
    "        else:\n",
    "            reward = -0.1 # Small cost for each move\n",
    "\n",
    "        done = next_state in self.terminal_states\n",
    "        return next_state, reward, done\n",
    "\n",
    "def select_epsilon_greedy_action(Q, state, num_actions, epsilon):\n",
    "    \"\"\"\n",
    "    Selects an action using an epsilon-greedy policy.\n",
    "    With probability epsilon, it chooses a random action.\n",
    "    With probability 1-epsilon, it chooses the greedy action.\n",
    "    \"\"\"\n",
    "    if random.uniform(0, 1) < epsilon:\n",
    "        return random.randint(0, num_actions - 1)\n",
    "    else:\n",
    "        return np.argmax(Q[state])"
   ],
   "outputs": [],
   "execution_count": 1
  },
  {
   "metadata": {},
   "cell_type": "markdown",
   "source": "**Sarsa (On-Policy) 实现**",
   "id": "3f9aa5cc07c61601"
  },
  {
   "metadata": {
    "ExecuteTime": {
     "end_time": "2025-07-04T16:36:19.944970Z",
     "start_time": "2025-07-04T16:36:19.940590Z"
    }
   },
   "cell_type": "code",
   "source": [
    "def sarsa(env, num_episodes, alpha, gamma, epsilon):\n",
    "    \"\"\"\n",
    "    Implements the SARSA on-policy TD control algorithm.\n",
    "\n",
    "    Args:\n",
    "        env: The environment object.\n",
    "        num_episodes (int): The number of episodes to run.\n",
    "        alpha (float): The learning rate.\n",
    "        gamma (float): The discount factor.\n",
    "        epsilon (float): The exploration rate for the epsilon-greedy policy.\n",
    "\n",
    "    Returns:\n",
    "        Q (defaultdict): The learned action-value function.\n",
    "    \"\"\"\n",
    "\n",
    "    # Initialization\n",
    "    # q0(s,a) for all (s,a)\n",
    "    Q = defaultdict(lambda: np.zeros(env.num_actions))\n",
    "\n",
    "    # For each episode, do\n",
    "    for i in range(num_episodes):\n",
    "        if (i + 1) % 500 == 0:\n",
    "            print(f\"Episode {i + 1}/{num_episodes}\")\n",
    "\n",
    "        # Start a new episode\n",
    "        state = env.reset()\n",
    "        done = False\n",
    "\n",
    "        # Generate a0 at s0 following pi_0(s0)\n",
    "        # (pi_0 is the initial epsilon-greedy policy derived from q0)\n",
    "        action = select_epsilon_greedy_action(Q, state, env.num_actions, epsilon)\n",
    "\n",
    "        # If s_t is not the target state, do\n",
    "        while not done:\n",
    "            # Collect an experience sample (r_{t+1}, s_{t+1}, a_{t+1})\n",
    "            # Generate r_{t+1}, s_{t+1} by interacting with the environment\n",
    "            next_state, reward, done = env.step(state, action)\n",
    "\n",
    "            # Generate a_{t+1} following pi_t(s_{t+1})\n",
    "            # This is the key step that makes SARSA on-policy\n",
    "            next_action = select_epsilon_greedy_action(Q, next_state, env.num_actions, epsilon)\n",
    "\n",
    "            # Update q-value for (s_t, a_t):\n",
    "            # Q(s,a) <-- Q(s,a) + alpha * [r + gamma * Q(s',a') - Q(s,a)]\n",
    "            td_target = reward + gamma * Q[next_state][next_action]\n",
    "            td_error = td_target - Q[state][action]\n",
    "            Q[state][action] += alpha * td_error\n",
    "\n",
    "            # Update policy for s_t: (This is done implicitly by updating Q)\n",
    "            # The epsilon-greedy policy automatically improves as Q improves.\n",
    "\n",
    "            # s_t <-- s_{t+1}, a_t <-- a_{t+1}\n",
    "            state = next_state\n",
    "            action = next_action\n",
    "\n",
    "    print(\"--- SARSA Finished ---\")\n",
    "    return Q"
   ],
   "id": "4d23b56fd86e4d80",
   "outputs": [],
   "execution_count": 2
  },
  {
   "metadata": {
    "ExecuteTime": {
     "end_time": "2025-07-04T16:36:19.959854Z",
     "start_time": "2025-07-04T16:36:19.952778Z"
    }
   },
   "cell_type": "code",
   "source": [
    "env = GridWorld()\n",
    "sarsa(env, num_episodes=5, alpha=0.01, gamma=0.99, epsilon=0.1)"
   ],
   "id": "1960a2ed1699800b",
   "outputs": [
    {
     "name": "stdout",
     "output_type": "stream",
     "text": [
      "--- SARSA Finished ---\n"
     ]
    },
    {
     "data": {
      "text/plain": [
       "defaultdict(<function __main__.sarsa.<locals>.<lambda>()>,\n",
       "            {20: array([-0.00793823, -0.00696831, -0.00799576, -0.0078804 ]),\n",
       "             15: array([-0.00695842, -0.00602722, -0.00596901, -0.0079678 ]),\n",
       "             10: array([-0.00596852, -0.00502839, -0.00596901, -0.0049793 ]),\n",
       "             5: array([-0.00492079, -0.004019  , -0.0039797 , -0.0039896 ]),\n",
       "             0: array([-0.0039796, -0.0029996, -0.0030094, -0.0039701]),\n",
       "             1: array([-0.0039796, -0.0039796, -0.0020391, -0.00298  ]),\n",
       "             21: array([-0.00596959, -0.00597871, -0.00508602, -0.0049403 ]),\n",
       "             22: array([-0.00298   , -0.00199   , -0.00202998, -0.00199   ]),\n",
       "             17: array([-0.00199, -0.001  , -0.00199, -0.00199]),\n",
       "             12: array([-0.001  , -0.001  , -0.00199, -0.1    ]),\n",
       "             7: array([-0.001  , -0.001  , -0.00199, -0.001  ]),\n",
       "             2: array([-0.00199  , -0.00199  , -0.0010099, -0.00199  ]),\n",
       "             23: array([-0.001    , -0.00199  , -0.0010099, -0.001    ]),\n",
       "             18: array([-0.1      , -0.001    , -0.0010099,  0.       ]),\n",
       "             13: array([0., 0., 0., 0.]),\n",
       "             24: array([-0.1,  0. ,  0. ,  0. ]),\n",
       "             19: array([0., 0., 0., 0.]),\n",
       "             3: array([-0.00199  , -0.001    , -0.0010099,  0.1      ]),\n",
       "             8: array([-0.001, -0.1  ,  0.   ,  0.   ]),\n",
       "             4: array([0., 0., 0., 0.])})"
      ]
     },
     "execution_count": 3,
     "metadata": {},
     "output_type": "execute_result"
    }
   ],
   "execution_count": 3
  },
  {
   "metadata": {},
   "cell_type": "markdown",
   "source": "**Q-Learning (Off-Policy) 实现**",
   "id": "877ac3d3d8cce5c7"
  },
  {
   "metadata": {
    "ExecuteTime": {
     "end_time": "2025-07-04T16:36:19.976657Z",
     "start_time": "2025-07-04T16:36:19.972563Z"
    }
   },
   "cell_type": "code",
   "source": [
    "def q_learning(env, num_episodes, alpha, gamma, epsilon):\n",
    "\n",
    "    # Initialization, guess q0(s,a) for all (s,a)\n",
    "    Q = defaultdict(lambda: np.zeros(env.num_actions))\n",
    "\n",
    "    # For each episode, do\n",
    "    for i in range(num_episodes):\n",
    "        if (i + 1) % 500 == 0:\n",
    "            print(f\"Episode {i + 1}/{num_episodes}\")\n",
    "\n",
    "        # Start a new episode\n",
    "        state = env.reset()\n",
    "        done = False\n",
    "\n",
    "        # For each step t = 0, 1, 2, ... of episode, do\n",
    "        while not done:\n",
    "            # Behavior policy pi_b is epsilon-greedy based on current Q\n",
    "            action = select_epsilon_greedy_action(Q, state, env.num_actions, epsilon)\n",
    "            # Take action a_t, observe r_{t+1}, s_{t+1}\n",
    "            next_state, reward, done = env.step(state, action)\n",
    "\n",
    "            # Update q-value for (s_t, a_t):\n",
    "            # Q(s,a) <-- Q(s,a) + alpha * [r + gamma * max_a' Q(s',a') - Q(s,a)]\n",
    "            best_next_action_q_value = np.max(Q[next_state])\n",
    "            td_target = reward + gamma * best_next_action_q_value\n",
    "            td_error = td_target - Q[state][action]\n",
    "            Q[state][action] += alpha * td_error\n",
    "\n",
    "            # Update target policy for s_t (Implicitly done by updating Q): The optimal target policy pi_T is the greedy policy over the Q-values.\n",
    "            state = next_state\n",
    "\n",
    "    print(\"--- Q-Learning Finished ---\")\n",
    "    return Q"
   ],
   "id": "961cc23de3193a45",
   "outputs": [],
   "execution_count": 4
  },
  {
   "metadata": {
    "ExecuteTime": {
     "end_time": "2025-07-04T16:36:20.006513Z",
     "start_time": "2025-07-04T16:36:19.999148Z"
    }
   },
   "cell_type": "code",
   "source": [
    "env = GridWorld()\n",
    "q_learning(env, num_episodes=5, alpha=0.01, gamma=0.99, epsilon=0.1)"
   ],
   "id": "155a2b9f17b0a644",
   "outputs": [
    {
     "name": "stdout",
     "output_type": "stream",
     "text": [
      "--- Q-Learning Finished ---\n"
     ]
    },
    {
     "data": {
      "text/plain": [
       "defaultdict(<function __main__.q_learning.<locals>.<lambda>()>,\n",
       "            {20: array([-0.00790057, -0.0069979 , -0.0069979 , -0.00787079]),\n",
       "             15: array([-0.00692902, -0.00602703, -0.0059985 , -0.0059985 ]),\n",
       "             10: array([-0.00591079, -0.0050185 , -0.00599772, -0.004999  ]),\n",
       "             5: array([-0.00495  , -0.0040191, -0.0039994, -0.0039994]),\n",
       "             0: array([-0.0029997, -0.0030096, -0.0029997, -0.0039701]),\n",
       "             21: array([-0.004999  , -0.004999  , -0.00507613, -0.00590089]),\n",
       "             22: array([-0.0029701, -0.0019999, -0.0030488, -0.0029701]),\n",
       "             17: array([-0.001  , -0.00199,  0.     ,  0.     ]),\n",
       "             12: array([-0.001,  0.   ,  0.   , -0.1  ]),\n",
       "             7: array([-0.001, -0.001, -0.001, -0.001]),\n",
       "             2: array([-0.0019999, -0.00199  , -0.0010099, -0.00199  ]),\n",
       "             3: array([-0.001, -0.001, -0.001,  0.1  ]),\n",
       "             8: array([-0.001, -0.1  ,  0.   ,  0.   ]),\n",
       "             13: array([0., 0., 0., 0.]),\n",
       "             1: array([-0.0029997, -0.0029997, -0.0020196, -0.0029898]),\n",
       "             23: array([-0.001  , -0.001  , -0.00101, -0.001  ]),\n",
       "             18: array([-0.1,  0. ,  0. ,  0. ]),\n",
       "             24: array([-0.1,  0. ,  0. ,  0. ]),\n",
       "             19: array([0., 0., 0., 0.]),\n",
       "             4: array([0., 0., 0., 0.])})"
      ]
     },
     "execution_count": 5,
     "metadata": {},
     "output_type": "execute_result"
    }
   ],
   "execution_count": 5
  }
 ],
 "metadata": {
  "kernelspec": {
   "display_name": "Python 3",
   "language": "python",
   "name": "python3"
  },
  "language_info": {
   "codemirror_mode": {
    "name": "ipython",
    "version": 2
   },
   "file_extension": ".py",
   "mimetype": "text/x-python",
   "name": "python",
   "nbconvert_exporter": "python",
   "pygments_lexer": "ipython2",
   "version": "2.7.6"
  }
 },
 "nbformat": 4,
 "nbformat_minor": 5
}
